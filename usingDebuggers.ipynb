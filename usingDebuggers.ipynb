{
 "cells": [
  {
   "cell_type": "markdown",
   "metadata": {},
   "source": [
    "# Using a Debugger"
   ]
  },
  {
   "cell_type": "markdown",
   "metadata": {},
   "source": [
    "For this tutorial, you will learn to identify and use the essential elements of a debugger in two different environments."
   ]
  },
  {
   "cell_type": "markdown",
   "metadata": {},
   "source": [
    "Let's assume you're new to the programming world, and that python is your first programming language.\n",
    "\n",
    "Python is a wonderful first language.  It is easy to learn as a beginner, and also has full featured capabilities.  It can grow with your skills and interests in nearly any type of programming paradigm.  \n",
    "\n",
    "Python programming is a skill that will come in handy for the rest of your career!  So let's learn about an important tool for the programmer, which is the **debugger**."
   ]
  },
  {
   "cell_type": "markdown",
   "metadata": {},
   "source": [
    "## Background:  What is a Debugger?"
   ]
  },
  {
   "cell_type": "markdown",
   "metadata": {},
   "source": [
    "A debugger is a way  interacting with your code as it is running.  One thing that beginners love about python is the fact that you can run commands interactively from the terminal shell, making it very easy to explore variables and syntax.  In this sense, the interpreter shell is a debugger.  The notebook environment is also very interactive, as you can enter `print` statements, rerun cells, and inspect your code and the values generated along the way.\n",
    "\n",
    "A debugger is simply a more formal experience that allows you to do the same sort of thing, but without all of the `print` statements.  At its core, a debugger provides:\n",
    "\n",
    "- **Breakpoints**: A placeholder in the code that causes the code to pause mid-execution.\n",
    "\n",
    "- **Variable Inspection**:  The ability to monitor variable values as the code executes.\n",
    " \n",
    "- **Code Stepping**:  Similar to using breakpoints, but pausing at each line of code execution.\n",
    "\n",
    "There are of course many more things that can be done with debugger environments, but this is a good place to start.  \n"
   ]
  },
  {
   "cell_type": "markdown",
   "metadata": {},
   "source": [
    "### Debuggers Overview"
   ]
  },
  {
   "cell_type": "markdown",
   "metadata": {},
   "source": [
    "For those who are interested in JupyterLab, there is a lightweight debugger environment that can be used to run notebooks in debugger mode.  We will look at that one in the next section.\n",
    "\n",
    "Most debuggers, however, exist within a special class of code editors called Interactive Development Environments (IDEs).  IDEs come in various flavors.  Some are very specific to python, and include:\n",
    "\n",
    "- IDLE \n",
    "- Spyder\n",
    "- PyCharm\n",
    "\n",
    "These are pretty easy to get started with and are designed for those working primarily in python.\n",
    "\n",
    "There are more sophisticated IDEs, which support multiple languages (including python of course).  They take a little more effort to learn, but are much more powerful, and include:\n",
    "\n",
    "- Eclipse\n",
    "- IntelliJ\n",
    "- Visual Studio \n",
    "\n",
    "For our IDE example, we'll demonstrate the debugger in PyCharm."
   ]
  },
  {
   "cell_type": "markdown",
   "metadata": {},
   "source": [
    "## Using the JupyterLab Debugger"
   ]
  },
  {
   "cell_type": "markdown",
   "metadata": {},
   "source": [
    "### Getting Started with the Debugger in Jupyter"
   ]
  },
  {
   "cell_type": "markdown",
   "metadata": {},
   "source": [
    "Let's assume you have Jupyter notebooks running, and are somewhat familiar with Jupyter Lab.  \n",
    "\n",
    "If not, use the Anaconda installation: https://docs.anaconda.com/anaconda/install/, \n",
    "\n",
    "and follow the JupyterLab documentation on getting started:\n",
    "\n",
    "https://jupyterlab.readthedocs.io/en/stable/getting_started/starting.html\n",
    "\n",
    "You will need to install the `xpython` kernel to access the debugger.  The `pip` installer works well: \n",
    "\n",
    "`pip install xeus-python notebook`\n",
    "\n",
    "Launch Jupyter Lab and select the `XPython` kernel from the dropdown menu.  You should get an interface that looks like this:"
   ]
  },
  {
   "cell_type": "markdown",
   "metadata": {},
   "source": [
    "<img src=\"images/animation1-final.gif\"/>\n",
    "\n",
    "*The JupyterLab XPython debugging environment.*"
   ]
  },
  {
   "cell_type": "markdown",
   "metadata": {},
   "source": [
    "Make sure you turn the debugger on, and notice that the notebook now has a debugger sidebar.  Once the debugger is on, you can set breakpoints (signified by red dots).  Now you're ready to run some code and see what it does!  In Jupyter, simply hit <kbd>SHIFT</kbd>+<kbd>ENTER</kbd> at each cell to run the code. \n",
    "\n",
    "The first cell a function definition, so nothing is evaluated.  The next cell runs the code, and has a breakpoint.  Stepping through the code and viewing the variables looks like this: "
   ]
  },
  {
   "cell_type": "markdown",
   "metadata": {},
   "source": [
    "<img src=\"images/animation2-final.gif\"/>\n",
    "\n",
    "*The debugger in action.*"
   ]
  },
  {
   "cell_type": "markdown",
   "metadata": {},
   "source": [
    "You can see that the variables pane of the sidebar reports the values of all variables in the scope of the paused code.  If it is in the function, only the variables in that scope are reported.  \n",
    "\n",
    "Also notice that we stepped through the code in two different ways.  The first approach runs the code until it sees a breakpoint and the second approach runs the code line by line.\n",
    "\n",
    "That pretty much covers the basics...even if you are using an IDE.  There are of course many nuances to learn as you become more familiar, but you are well on your way if you understand these basic points.  "
   ]
  },
  {
   "cell_type": "markdown",
   "metadata": {},
   "source": [
    "## Using the PyCharm Debugger"
   ]
  },
  {
   "cell_type": "markdown",
   "metadata": {},
   "source": [
    "The PyCharm IDE is a fairly robust code editor with rich debugging capabilities. It is part of the JetBrains family of IDEs, and its main focus is to provide a rich python-centric debugging environment.  It is only slightly more complex at first than a notebook.  \n",
    "\n",
    "You can easily start a project following the standard procedures of the wizards when you start it up.  If you are interested in learning more, the PyCharm documentation is excellent:\n",
    "\n",
    "https://www.jetbrains.com/help/pycharm/creating-and-running-your-first-python-project.html\n",
    "\n",
    "Assuming you are able to start a project, you should see a function definition and a `__main__` section, which is the start of the main body of the program.  After that, simply fill in the same code we were using for the notebook example."
   ]
  },
  {
   "cell_type": "markdown",
   "metadata": {},
   "source": [
    "<img src=\"images/animation3-final.gif\" alt=\"This is an animated gif image, but it does not move\"/>"
   ]
  },
  {
   "cell_type": "markdown",
   "metadata": {},
   "source": [
    "The debugger is invoked in a similar way, and all of the usual debugging features are available (breakpoints, variable inspection, and code stepping), with buttons and displays in slightly different arrangements.  Once you get the hang of it, it is very handy to use, especially when your code gets too large to fit easily in a notebook.  \n",
    "\n",
    "If you can become comfortable working with debuggers and IDEs, you are well on your way to developing more complex applications.  These tools are powerful aids for programmers, and you will come to appreciate all of the enhancements to the coding experience that these environments can provide.\n",
    "\n",
    "Happy Debugging!"
   ]
  }
 ],
 "metadata": {
  "kernelspec": {
   "display_name": "Python 3",
   "language": "python",
   "name": "python3"
  },
  "language_info": {
   "codemirror_mode": {
    "name": "ipython",
    "version": 3
   },
   "file_extension": ".py",
   "mimetype": "text/x-python",
   "name": "python",
   "nbconvert_exporter": "python",
   "pygments_lexer": "ipython3",
   "version": "3.8.5"
  }
 },
 "nbformat": 4,
 "nbformat_minor": 4
}
